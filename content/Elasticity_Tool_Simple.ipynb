{
 "cells": [
  {
   "cell_type": "markdown",
   "metadata": {},
   "source": [
    "# Elasticity Tool (Simple Version)\n",
    "\n",
    "Interactive tool for calculating price elasticity using real market data from Athens soda sales.\n",
    "\n",
    "**Instructions:**\n",
    "1. Run the cell below\n",
    "2. Wait for packages to install (first time only)\n",
    "3. Use the interactive widgets to calculate elasticities"
   ]
  },
  {
   "cell_type": "code",
   "execution_count": null,
   "id": "main-code",
   "metadata": {
    "cellView": "form"
   },
   "outputs": [],
   "source": "# Install required packages for JupyterLite\nimport micropip\nawait micropip.install(['pandas', 'numpy', 'matplotlib', 'scikit-learn', 'ipywidgets'])\n\nimport pandas as pd\nimport matplotlib.pyplot as plt\nimport numpy as np\nfrom sklearn.linear_model import LinearRegression\nfrom IPython.display import display, clear_output\nimport ipywidgets as widgets\n\n# Load and prepare data\ndf = pd.read_csv('soda.csv')\ndf['date'] = pd.to_datetime(df['date'])\n\ndf_mean_Q = df.groupby(['brand','container','city','date'])['quantity'].mean().reset_index()\ndf_mean_P = df.groupby(['brand','container','city','date'])['price'].mean().reset_index()\ndf_city = pd.merge(df_mean_Q, df_mean_P)\ndf_city.rename(columns={'quantity': 'mean_q', 'price': 'mean_p'}, inplace=True)\ndf_city = df_city.pivot(index='date', columns=['city','brand','container'], values=['mean_q','mean_p'])\n\nbrands = ['adult-cola', 'gazoza', 'kinder-cola', 'lemon-boost', 'orange-power']\ncontainers = ['plastic', 'can', 'glass']\n\n# Analysis functions\ndef calculate_own_price_elasticity(brand, container, price_point):\n    try:\n        Qx = df_city['mean_q']['Athens'][brand][container].values.reshape(-1,1)\n        Px = df_city['mean_p']['Athens'][brand][container].values.reshape(-1,1)\n        \n        # Plot relationship\n        plt.figure(figsize=(8, 6))\n        reg = LinearRegression().fit(Px, Qx)\n        Px_plot = np.linspace(Px.min(), Px.max(), 100).reshape(-1,1)\n        Qx_pred = reg.predict(Px_plot)\n        \n        plt.scatter(Qx, Px, alpha=0.7, label='Data')\n        plt.plot(Qx_pred, Px_plot, color='red', label='Regression Line')\n        plt.xlabel(f'Quantity ({brand} {container})')\n        plt.ylabel(f'Price ({brand} {container})')\n        plt.title(f'Price vs Quantity: {brand} {container}')\n        plt.legend()\n        plt.grid(True, alpha=0.3)\n        plt.show()\n        \n        # Calculate elasticity\n        Q_hat = reg.predict(np.array(price_point).reshape(-1, 1))\n        elasticity = reg.coef_[0][0] * (price_point / Q_hat[0][0])\n        \n        print(f'Own-Price Elasticity: {elasticity:.3f}')\n        if elasticity < -1:\n            print('Demand is ELASTIC (responsive to price changes)')\n        elif elasticity > -1 and elasticity < 0:\n            print('Demand is INELASTIC (less responsive to price changes)')\n        else:\n            print('Unusual elasticity value - check data')\n            \n    except Exception as e:\n        print(f'Error calculating elasticity: {str(e)}')\n\ndef calculate_cross_price_elasticity(brand1, container1, brand2, container2, price_point):\n    try:\n        Qx = df_city['mean_q']['Athens'][brand1][container1].values.reshape(-1,1)\n        Px1 = df_city['mean_p']['Athens'][brand1][container1].values.reshape(-1,1)\n        Px2 = df_city['mean_p']['Athens'][brand2][container2].values.reshape(-1,1)\n        Px = np.concatenate((Px1, Px2), axis=1)\n        \n        reg = LinearRegression().fit(Px, Qx)\n        mPx1 = np.mean(Px1)\n        P = np.array([[mPx1, price_point]])\n        Q_hat = reg.predict(P)\n        cross_elasticity = reg.coef_[0][1] * (price_point / Q_hat[0][0])\n        \n        print(f'Cross-Price Elasticity ({brand2} price effect on {brand1} demand): {cross_elasticity:.3f}')\n        if cross_elasticity > 0:\n            print('Products are SUBSTITUTES (price increase of one increases demand for other)')\n        elif cross_elasticity < 0:\n            print('Products are COMPLEMENTS (price increase of one decreases demand for other)')\n        else:\n            print('Products are INDEPENDENT (no cross-price effect)')\n            \n    except Exception as e:\n        print(f'Error calculating cross-price elasticity: {str(e)}')\n\n# Interactive widgets - separate instances for each section\nbrand1_dropdown = widgets.Dropdown(options=brands, value='adult-cola', description='Brand:')\ncontainer1_dropdown = widgets.Dropdown(options=containers, value='plastic', description='Container:')\nprice1_slider = widgets.FloatSlider(min=0.5, max=5.0, step=0.1, value=2.0, description='Price Point:')\n\nbrand2_dropdown = widgets.Dropdown(options=brands, value='adult-cola', description='Brand:')\ncontainer2_dropdown = widgets.Dropdown(options=containers, value='plastic', description='Container:')\n\nbrand3_dropdown = widgets.Dropdown(options=brands, value='gazoza', description='Brand 2:')\ncontainer3_dropdown = widgets.Dropdown(options=containers, value='plastic', description='Container 2:')\nprice2_slider = widgets.FloatSlider(min=0.5, max=5.0, step=0.1, value=2.0, description='Price Point 2:')\n\nown_elasticity_button = widgets.Button(description='Calculate Own-Price Elasticity', button_style='primary')\ncross_elasticity_button = widgets.Button(description='Calculate Cross-Price Elasticity', button_style='info')\noutput = widgets.Output()\n\ndef on_own_elasticity_click(b):\n    with output:\n        clear_output()\n        print(f\"Analyzing {brand1_dropdown.value} {container1_dropdown.value} at price ${price1_slider.value}\")\n        print(\"=\" * 60)\n        calculate_own_price_elasticity(brand1_dropdown.value, container1_dropdown.value, price1_slider.value)\n\ndef on_cross_elasticity_click(b):\n    with output:\n        clear_output()\n        print(f\"Cross-elasticity: {brand3_dropdown.value} price effect on {brand2_dropdown.value} demand\")\n        print(\"=\" * 60)\n        calculate_cross_price_elasticity(\n            brand2_dropdown.value, container2_dropdown.value,\n            brand3_dropdown.value, container3_dropdown.value,\n            price2_slider.value\n        )\n\nown_elasticity_button.on_click(on_own_elasticity_click)\ncross_elasticity_button.on_click(on_cross_elasticity_click)\n\n# Layout with unique widgets\nown_price_section = widgets.VBox([\n    widgets.HTML('<h3>Own-Price Elasticity Analysis</h3>'),\n    brand1_dropdown,\n    container1_dropdown,\n    price1_slider,\n    own_elasticity_button\n])\n\ncross_price_section = widgets.VBox([\n    widgets.HTML('<h3>Cross-Price Elasticity Analysis</h3>'),\n    widgets.HTML('<b>Product 1 (demand):</b>'),\n    brand2_dropdown,\n    container2_dropdown,\n    widgets.HTML('<b>Product 2 (price change):</b>'),\n    brand3_dropdown,\n    container3_dropdown,\n    price2_slider,\n    cross_elasticity_button\n])\n\nmain_interface = widgets.HBox([\n    own_price_section,\n    widgets.HTML('<div style=\"width: 50px;\"></div>'),\n    cross_price_section\n])\n\n# Display interface and data preview\nprint(\"Elasticity Analysis Tool - Athens Soda Market Data\")\nprint(\"=\" * 60)\nprint(\"Sample of the data:\")\ndisplay(df[['date', 'brand', 'container', 'price', 'quantity']].head())\nprint(\"\\nAvailable brands:\", \", \".join(brands))\nprint(\"Available containers:\", \", \".join(containers))\nprint(\"\\nUse the controls below to analyze price elasticities:\")\n\ndisplay(main_interface)\ndisplay(output)"
  }
 ],
 "metadata": {
  "kernelspec": {
   "display_name": "Python 3",
   "language": "python",
   "name": "python3"
  },
  "language_info": {
   "codemirror_mode": {
    "name": "ipython",
    "version": 3
   },
   "file_extension": ".py",
   "mimetype": "text/x-python",
   "name": "python",
   "nbconvert_exporter": "python",
   "pygments_lexer": "ipython3",
   "version": "3.11.0"
  }
 },
 "nbformat": 4,
 "nbformat_minor": 4
}